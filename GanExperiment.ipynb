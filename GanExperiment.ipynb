{
  "nbformat": 4,
  "nbformat_minor": 0,
  "metadata": {
    "colab": {
      "name": "GanExperiment.ipynb",
      "provenance": [],
      "collapsed_sections": []
    },
    "kernelspec": {
      "name": "python3",
      "display_name": "Python 3"
    },
    "language_info": {
      "name": "python"
    },
    "accelerator": "GPU"
  },
  "cells": [
    {
      "cell_type": "code",
      "source": [
        "import json\n",
        "import pandas as pd\n",
        "import numpy as np\n",
        "import torch\n",
        "import torch.nn as nn\n",
        "from torch import FloatTensor\n",
        "from torch.autograd import Variable\n",
        "import matplotlib.pyplot as plt\n",
        "from IPython.display import clear_output"
      ],
      "metadata": {
        "id": "bFqQoGjz6rmx"
      },
      "execution_count": null,
      "outputs": []
    },
    {
      "cell_type": "code",
      "source": [
        "with open('/content/drive/MyDrive/mixology_cocktails.json') as f:\n",
        "    d = json.load(f)"
      ],
      "metadata": {
        "id": "Qmc-Scq56rkF"
      },
      "execution_count": null,
      "outputs": []
    },
    {
      "cell_type": "code",
      "source": [
        "data = pd.DataFrame.from_dict(d).T.reset_index(drop=True).drop(['name', 'similar', 'notes'], axis=1)"
      ],
      "metadata": {
        "id": "zeadZf2i7gBH"
      },
      "execution_count": null,
      "outputs": []
    },
    {
      "cell_type": "code",
      "source": [
        "data['ing_id'] = data['ingredients'].apply(lambda x: [int(i['id']) for i in x])\n",
        "data['ing_ml'] = data['ingredients'].apply(lambda x: [i['ml'] for i in x])\n",
        "l = data['ing_id'].apply(len).max()"
      ],
      "metadata": {
        "id": "D3UeekrL7-qd"
      },
      "execution_count": null,
      "outputs": []
    },
    {
      "cell_type": "code",
      "source": [
        "data['ing_id'] = data['ing_id'].apply(lambda x: np.array(x + [0]*(10 - len(x))))\n",
        "data['ing_ml'] = data['ing_ml'].apply(lambda x: np.array(x + [0]*(10 - len(x))))"
      ],
      "metadata": {
        "id": "3CFkQtaUQrxD"
      },
      "execution_count": null,
      "outputs": []
    },
    {
      "cell_type": "code",
      "source": [
        "ids = torch.LongTensor(np.vstack(data['ing_id']))\n",
        "rv = torch.FloatTensor(np.vstack(data['ing_ml']))"
      ],
      "metadata": {
        "id": "wcxfwEAaTHkH"
      },
      "execution_count": null,
      "outputs": []
    },
    {
      "cell_type": "code",
      "source": [
        "from sklearn.preprocessing import MultiLabelBinarizer\n",
        "from sklearn.model_selection import train_test_split\n"
      ],
      "metadata": {
        "id": "NSaohef2rc5v"
      },
      "execution_count": null,
      "outputs": []
    },
    {
      "cell_type": "code",
      "source": [
        "class Discriminator(nn.Module):\n",
        "    def __init__(self):\n",
        "        super(Discriminator, self).__init__()\n",
        "        self.emb = nn.Embedding(1000, 54)\n",
        "        self.net = nn.Sequential(\n",
        "            nn.Linear(64, 128),\n",
        "            nn.LayerNorm(128),\n",
        "            nn.ReLU(),\n",
        "            nn.Linear(128, 256),\n",
        "            nn.LayerNorm(256),\n",
        "            nn.ReLU(),\n",
        "            nn.Linear(256, 512),\n",
        "            nn.LayerNorm(512),\n",
        "            nn.ReLU(),\n",
        "            nn.Linear(512, 256),\n",
        "            nn.LayerNorm(256),\n",
        "            nn.ReLU(),\n",
        "            nn.Linear(256, 1),\n",
        "            nn.LayerNorm(1),\n",
        "            nn.Flatten(),\n",
        "            nn.Sigmoid()\n",
        "        )\n",
        "\n",
        "    def forward(self, data):\n",
        "        ids, rvs = data\n",
        "        embs = self.emb(ids).mean(1)\n",
        "        seq = torch.cat([embs, rvs], axis=-1)\n",
        "        p = self.net(seq)\n",
        "        return p\n",
        "\n",
        "class Generator(nn.Module):\n",
        "    def __init__(self):\n",
        "        super(Generator, self).__init__()\n",
        "        self.net = nn.Sequential(\n",
        "            nn.Linear(1, 64),\n",
        "            nn.LayerNorm(64),\n",
        "            nn.ReLU(),\n",
        "\n",
        "            nn.Linear(64, 128),\n",
        "            nn.LayerNorm(128),\n",
        "            nn.ReLU(),\n",
        "\n",
        "            nn.Linear(128, 256),\n",
        "            nn.LayerNorm(256),\n",
        "            nn.ReLU(),\n",
        "\n",
        "            nn.Linear(256, 512),\n",
        "            nn.LayerNorm(512),\n",
        "            nn.ReLU(),\n",
        "\n",
        "            nn.Linear(512, 1000),\n",
        "            nn.LayerNorm(1000),\n",
        "            nn.ReLU()\n",
        "        )\n",
        "        self.ids = nn.Linear(1000, 1000)\n",
        "        self.rvs = nn.Linear(1000, 1)\n",
        "    \n",
        "    def forward(self, z):\n",
        "        z = z.unsqueeze(-1)\n",
        "        z = self.net(z)\n",
        "        ids = self.ids(z)[:, :l, :].argmax(-1).squeeze(-1).squeeze(-1)\n",
        "        rvs = self.rvs(z)[:, :l, :].squeeze(-1).squeeze(-1).squeeze(-1)\n",
        "        return ids, rvs"
      ],
      "metadata": {
        "id": "2IF-nM7zv3xB"
      },
      "execution_count": null,
      "outputs": []
    },
    {
      "cell_type": "code",
      "source": [
        "device = 'cuda'"
      ],
      "metadata": {
        "id": "nbXr5FOLVpu4"
      },
      "execution_count": null,
      "outputs": []
    },
    {
      "cell_type": "code",
      "source": [
        "D = Discriminator().to(device)\n",
        "G = Generator().to(device)"
      ],
      "metadata": {
        "id": "0HgVxWHUwWX3"
      },
      "execution_count": null,
      "outputs": []
    },
    {
      "cell_type": "code",
      "source": [
        "criterion = nn.BCELoss()\n",
        "nz = 64\n",
        "b_size = 64\n",
        "num_epochs = 100\n",
        "real_label = 1.\n",
        "fake_label = 0.\n",
        "\n",
        "optimizerD = torch.optim.Adam(D.parameters())\n",
        "optimizerG = torch.optim.Adam(G.parameters())\n",
        "\n",
        "dataloader = list(zip(torch.split(ids, b_size), torch.split(rv, b_size)))"
      ],
      "metadata": {
        "id": "zpX4zJ2uRs3S"
      },
      "execution_count": null,
      "outputs": []
    },
    {
      "cell_type": "code",
      "source": [
        "G_losses = []\n",
        "D_losses = []\n",
        "iters = 0\n",
        "\n",
        "print(\"Starting Training Loop...\")\n",
        "for epoch in range(num_epochs):\n",
        "    epochLossG = 0\n",
        "    epochLossD = 0\n",
        "    for data in dataloader:\n",
        "        data = list(x.to(device) for x in data)\n",
        "        bs =  data[0].size(0)\n",
        "        labels = torch.full((bs,), 1, dtype=torch.float,\n",
        "            device=device)\n",
        "        output = D(data).view(-1)\n",
        "        errorReal = criterion(output, labels)\n",
        "        errorReal.backward()\n",
        "        noise = torch.randn(bs, nz, device=device)\n",
        "        fake = G(noise)\n",
        "        labels.fill_(0)\n",
        "        output = D(list(x.detach() for x in fake)).view(-1)\n",
        "        errorFake = criterion(output, labels)\n",
        "        errorFake.backward()\n",
        "        errorD = errorReal + errorFake\n",
        "        optimizerD.step()\n",
        "        G.zero_grad()\n",
        "        labels.fill_(1)\n",
        "        output = D(fake).view(-1)\n",
        "        errorG = criterion(output, labels)\n",
        "        errorG.backward()\n",
        "        optimizerG.step()\n",
        "        epochLossD += errorD\n",
        "        epochLossG += errorG\n",
        "\n",
        "    G_losses.append(epochLossG.item())\n",
        "    D_losses.append(epochLossD.item())\n",
        "    clear_output(True)\n",
        "    plt.plot(G_losses)\n",
        "    plt.show()\n",
        "    plt.plot(D_losses)\n",
        "    plt.show()"
      ],
      "metadata": {
        "id": "X_dcPsEB7PdE",
        "outputId": "13af4689-4b95-44b7-dfe0-f0cc8a5f1cd4",
        "colab": {
          "base_uri": "https://localhost:8080/",
          "height": 894
        }
      },
      "execution_count": null,
      "outputs": [
        {
          "output_type": "display_data",
          "data": {
            "text/plain": [
              "<Figure size 432x288 with 1 Axes>"
            ],
            "image/png": "[encoded data removed]"
          },
          "metadata": {
            "needs_background": "light"
          }
        },
        {
          "output_type": "display_data",
          "data": {
            "text/plain": [
              "<Figure size 432x288 with 1 Axes>"
            ],
            "image/png": "[encoded data removed]"
          },
          "metadata": {
            "needs_background": "light"
          }
        },
        {
          "output_type": "error",
          "ename": "KeyboardInterrupt",
          "evalue": "ignored",
          "traceback": [
            "\u001b[0;31m---------------------------------------------------------------------------\u001b[0m",
            "\u001b[0;31mKeyboardInterrupt\u001b[0m                         Traceback (most recent call last)",
            "\u001b[0;32m<ipython-input-49-2de92320ce64>\u001b[0m in \u001b[0;36m<module>\u001b[0;34m()\u001b[0m\n\u001b[1;32m     28\u001b[0m         \u001b[0merrorG\u001b[0m \u001b[0;34m=\u001b[0m \u001b[0mcriterion\u001b[0m\u001b[0;34m(\u001b[0m\u001b[0moutput\u001b[0m\u001b[0;34m,\u001b[0m \u001b[0mlabels\u001b[0m\u001b[0;34m)\u001b[0m\u001b[0;34m\u001b[0m\u001b[0;34m\u001b[0m\u001b[0m\n\u001b[1;32m     29\u001b[0m         \u001b[0merrorG\u001b[0m\u001b[0;34m.\u001b[0m\u001b[0mbackward\u001b[0m\u001b[0;34m(\u001b[0m\u001b[0;34m)\u001b[0m\u001b[0;34m\u001b[0m\u001b[0;34m\u001b[0m\u001b[0m\n\u001b[0;32m---> 30\u001b[0;31m         \u001b[0moptimizerG\u001b[0m\u001b[0;34m.\u001b[0m\u001b[0mstep\u001b[0m\u001b[0;34m(\u001b[0m\u001b[0;34m)\u001b[0m\u001b[0;34m\u001b[0m\u001b[0;34m\u001b[0m\u001b[0m\n\u001b[0m\u001b[1;32m     31\u001b[0m         \u001b[0mepochLossD\u001b[0m \u001b[0;34m+=\u001b[0m \u001b[0merrorD\u001b[0m\u001b[0;34m\u001b[0m\u001b[0;34m\u001b[0m\u001b[0m\n\u001b[1;32m     32\u001b[0m         \u001b[0mepochLossG\u001b[0m \u001b[0;34m+=\u001b[0m \u001b[0merrorG\u001b[0m\u001b[0;34m\u001b[0m\u001b[0;34m\u001b[0m\u001b[0m\n",
            "\u001b[0;32m/usr/local/lib/python3.7/dist-packages/torch/optim/optimizer.py\u001b[0m in \u001b[0;36mwrapper\u001b[0;34m(*args, **kwargs)\u001b[0m\n\u001b[1;32m     86\u001b[0m                 \u001b[0mprofile_name\u001b[0m \u001b[0;34m=\u001b[0m \u001b[0;34m\"Optimizer.step#{}.step\"\u001b[0m\u001b[0;34m.\u001b[0m\u001b[0mformat\u001b[0m\u001b[0;34m(\u001b[0m\u001b[0mobj\u001b[0m\u001b[0;34m.\u001b[0m\u001b[0m__class__\u001b[0m\u001b[0;34m.\u001b[0m\u001b[0m__name__\u001b[0m\u001b[0;34m)\u001b[0m\u001b[0;34m\u001b[0m\u001b[0;34m\u001b[0m\u001b[0m\n\u001b[1;32m     87\u001b[0m                 \u001b[0;32mwith\u001b[0m \u001b[0mtorch\u001b[0m\u001b[0;34m.\u001b[0m\u001b[0mautograd\u001b[0m\u001b[0;34m.\u001b[0m\u001b[0mprofiler\u001b[0m\u001b[0;34m.\u001b[0m\u001b[0mrecord_function\u001b[0m\u001b[0;34m(\u001b[0m\u001b[0mprofile_name\u001b[0m\u001b[0;34m)\u001b[0m\u001b[0;34m:\u001b[0m\u001b[0;34m\u001b[0m\u001b[0;34m\u001b[0m\u001b[0m\n\u001b[0;32m---> 88\u001b[0;31m                     \u001b[0;32mreturn\u001b[0m \u001b[0mfunc\u001b[0m\u001b[0;34m(\u001b[0m\u001b[0;34m*\u001b[0m\u001b[0margs\u001b[0m\u001b[0;34m,\u001b[0m \u001b[0;34m**\u001b[0m\u001b[0mkwargs\u001b[0m\u001b[0;34m)\u001b[0m\u001b[0;34m\u001b[0m\u001b[0;34m\u001b[0m\u001b[0m\n\u001b[0m\u001b[1;32m     89\u001b[0m             \u001b[0;32mreturn\u001b[0m \u001b[0mwrapper\u001b[0m\u001b[0;34m\u001b[0m\u001b[0;34m\u001b[0m\u001b[0m\n\u001b[1;32m     90\u001b[0m \u001b[0;34m\u001b[0m\u001b[0m\n",
            "\u001b[0;32m/usr/local/lib/python3.7/dist-packages/torch/autograd/grad_mode.py\u001b[0m in \u001b[0;36mdecorate_context\u001b[0;34m(*args, **kwargs)\u001b[0m\n\u001b[1;32m     26\u001b[0m         \u001b[0;32mdef\u001b[0m \u001b[0mdecorate_context\u001b[0m\u001b[0;34m(\u001b[0m\u001b[0;34m*\u001b[0m\u001b[0margs\u001b[0m\u001b[0;34m,\u001b[0m \u001b[0;34m**\u001b[0m\u001b[0mkwargs\u001b[0m\u001b[0;34m)\u001b[0m\u001b[0;34m:\u001b[0m\u001b[0;34m\u001b[0m\u001b[0;34m\u001b[0m\u001b[0m\n\u001b[1;32m     27\u001b[0m             \u001b[0;32mwith\u001b[0m \u001b[0mself\u001b[0m\u001b[0;34m.\u001b[0m\u001b[0m__class__\u001b[0m\u001b[0;34m(\u001b[0m\u001b[0;34m)\u001b[0m\u001b[0;34m:\u001b[0m\u001b[0;34m\u001b[0m\u001b[0;34m\u001b[0m\u001b[0m\n\u001b[0;32m---> 28\u001b[0;31m                 \u001b[0;32mreturn\u001b[0m \u001b[0mfunc\u001b[0m\u001b[0;34m(\u001b[0m\u001b[0;34m*\u001b[0m\u001b[0margs\u001b[0m\u001b[0;34m,\u001b[0m \u001b[0;34m**\u001b[0m\u001b[0mkwargs\u001b[0m\u001b[0;34m)\u001b[0m\u001b[0;34m\u001b[0m\u001b[0;34m\u001b[0m\u001b[0m\n\u001b[0m\u001b[1;32m     29\u001b[0m         \u001b[0;32mreturn\u001b[0m \u001b[0mcast\u001b[0m\u001b[0;34m(\u001b[0m\u001b[0mF\u001b[0m\u001b[0;34m,\u001b[0m \u001b[0mdecorate_context\u001b[0m\u001b[0;34m)\u001b[0m\u001b[0;34m\u001b[0m\u001b[0;34m\u001b[0m\u001b[0m\n\u001b[1;32m     30\u001b[0m \u001b[0;34m\u001b[0m\u001b[0m\n",
            "\u001b[0;32m/usr/local/lib/python3.7/dist-packages/torch/optim/adam.py\u001b[0m in \u001b[0;36mstep\u001b[0;34m(self, closure)\u001b[0m\n\u001b[1;32m    142\u001b[0m                    \u001b[0mlr\u001b[0m\u001b[0;34m=\u001b[0m\u001b[0mgroup\u001b[0m\u001b[0;34m[\u001b[0m\u001b[0;34m'lr'\u001b[0m\u001b[0;34m]\u001b[0m\u001b[0;34m,\u001b[0m\u001b[0;34m\u001b[0m\u001b[0;34m\u001b[0m\u001b[0m\n\u001b[1;32m    143\u001b[0m                    \u001b[0mweight_decay\u001b[0m\u001b[0;34m=\u001b[0m\u001b[0mgroup\u001b[0m\u001b[0;34m[\u001b[0m\u001b[0;34m'weight_decay'\u001b[0m\u001b[0;34m]\u001b[0m\u001b[0;34m,\u001b[0m\u001b[0;34m\u001b[0m\u001b[0;34m\u001b[0m\u001b[0m\n\u001b[0;32m--> 144\u001b[0;31m                    eps=group['eps'])\n\u001b[0m\u001b[1;32m    145\u001b[0m         \u001b[0;32mreturn\u001b[0m \u001b[0mloss\u001b[0m\u001b[0;34m\u001b[0m\u001b[0;34m\u001b[0m\u001b[0m\n",
            "\u001b[0;32m/usr/local/lib/python3.7/dist-packages/torch/optim/_functional.py\u001b[0m in \u001b[0;36madam\u001b[0;34m(params, grads, exp_avgs, exp_avg_sqs, max_exp_avg_sqs, state_steps, amsgrad, beta1, beta2, lr, weight_decay, eps)\u001b[0m\n\u001b[1;32m     85\u001b[0m         \u001b[0;31m# Decay the first and second moment running average coefficient\u001b[0m\u001b[0;34m\u001b[0m\u001b[0;34m\u001b[0m\u001b[0;34m\u001b[0m\u001b[0m\n\u001b[1;32m     86\u001b[0m         \u001b[0mexp_avg\u001b[0m\u001b[0;34m.\u001b[0m\u001b[0mmul_\u001b[0m\u001b[0;34m(\u001b[0m\u001b[0mbeta1\u001b[0m\u001b[0;34m)\u001b[0m\u001b[0;34m.\u001b[0m\u001b[0madd_\u001b[0m\u001b[0;34m(\u001b[0m\u001b[0mgrad\u001b[0m\u001b[0;34m,\u001b[0m \u001b[0malpha\u001b[0m\u001b[0;34m=\u001b[0m\u001b[0;36m1\u001b[0m \u001b[0;34m-\u001b[0m \u001b[0mbeta1\u001b[0m\u001b[0;34m)\u001b[0m\u001b[0;34m\u001b[0m\u001b[0;34m\u001b[0m\u001b[0m\n\u001b[0;32m---> 87\u001b[0;31m         \u001b[0mexp_avg_sq\u001b[0m\u001b[0;34m.\u001b[0m\u001b[0mmul_\u001b[0m\u001b[0;34m(\u001b[0m\u001b[0mbeta2\u001b[0m\u001b[0;34m)\u001b[0m\u001b[0;34m.\u001b[0m\u001b[0maddcmul_\u001b[0m\u001b[0;34m(\u001b[0m\u001b[0mgrad\u001b[0m\u001b[0;34m,\u001b[0m \u001b[0mgrad\u001b[0m\u001b[0;34m.\u001b[0m\u001b[0mconj\u001b[0m\u001b[0;34m(\u001b[0m\u001b[0;34m)\u001b[0m\u001b[0;34m,\u001b[0m \u001b[0mvalue\u001b[0m\u001b[0;34m=\u001b[0m\u001b[0;36m1\u001b[0m \u001b[0;34m-\u001b[0m \u001b[0mbeta2\u001b[0m\u001b[0;34m)\u001b[0m\u001b[0;34m\u001b[0m\u001b[0;34m\u001b[0m\u001b[0m\n\u001b[0m\u001b[1;32m     88\u001b[0m         \u001b[0;32mif\u001b[0m \u001b[0mamsgrad\u001b[0m\u001b[0;34m:\u001b[0m\u001b[0;34m\u001b[0m\u001b[0;34m\u001b[0m\u001b[0m\n\u001b[1;32m     89\u001b[0m             \u001b[0;31m# Maintains the maximum of all 2nd moment running avg. till now\u001b[0m\u001b[0;34m\u001b[0m\u001b[0;34m\u001b[0m\u001b[0;34m\u001b[0m\u001b[0m\n",
            "\u001b[0;31mKeyboardInterrupt\u001b[0m: "
          ]
        }
      ]
    },
    {
      "cell_type": "code",
      "source": [
        "noise = torch.randn(bs, nz, device=device)"
      ],
      "metadata": {
        "id": "Xd9IiDONP1B3"
      },
      "execution_count": null,
      "outputs": []
    },
    {
      "cell_type": "code",
      "source": [
        "generated = G(noise)"
      ],
      "metadata": {
        "id": "xUmODR2f8Gy2"
      },
      "execution_count": null,
      "outputs": []
    },
    {
      "cell_type": "code",
      "source": [
        "ids = generated[0].cpu().detach().numpy()\n",
        "rvs = generated[1].cpu().detach().numpy()"
      ],
      "metadata": {
        "id": "3RPMpBXo8MUw"
      },
      "execution_count": null,
      "outputs": []
    },
    {
      "cell_type": "code",
      "source": [
        "D = pd.DataFrame.from_dict(d).T.reset_index(drop=True)\n",
        "s = D['ingredients'].sum()"
      ],
      "metadata": {
        "id": "ioVomGJR86VB"
      },
      "execution_count": null,
      "outputs": []
    },
    {
      "cell_type": "code",
      "source": [
        "def find(id):\n",
        "    for i in s:\n",
        "        if i['id'] == str(id):\n",
        "            return i['text']"
      ],
      "metadata": {
        "id": "C1YHwEuo87zC"
      },
      "execution_count": null,
      "outputs": []
    },
    {
      "cell_type": "code",
      "source": [
        "for id, ml in zip(ids, rvs):\n",
        "    string = []\n",
        "    good = True\n",
        "    for name, m in zip(id, ml):\n",
        "        f = find(name)\n",
        "        if f and f not in string:\n",
        "            string.append(f\"{f}\")\n",
        "    if good:\n",
        "        print(\", \".join(string))"
      ],
      "metadata": {
        "id": "R5eqJEyy8YOp",
        "outputId": "860a7714-8bd5-4a54-8bd3-3444d893f2a1",
        "colab": {
          "base_uri": "https://localhost:8080/"
        }
      },
      "execution_count": null,
      "outputs": [
        {
          "output_type": "stream",
          "name": "stdout",
          "text": [
            "Strawberry gin(gordon's pink)\n",
            "Strawberry gin(gordon's pink)\n",
            "Strawberry gin(gordon's pink), Calvados (un trou normand)\n",
            "Strawberry gin(gordon's pink), Calvados (un trou normand)\n",
            "Strawberry gin(gordon's pink)\n",
            "Strawberry gin(gordon's pink)\n",
            "Strawberry gin(gordon's pink)\n",
            "Strawberry gin(gordon's pink)\n",
            "Strawberry gin(gordon's pink)\n",
            "Strawberry gin(gordon's pink), Calvados (un trou normand)\n",
            "Strawberry gin(gordon's pink)\n",
            "Strawberry gin(gordon's pink), Calvados (un trou normand)\n",
            "Strawberry gin(gordon's pink), Calvados (un trou normand)\n",
            "Strawberry gin(gordon's pink), Calvados (un trou normand)\n",
            "Strawberry gin(gordon's pink)\n",
            "Strawberry gin(gordon's pink)\n",
            "Strawberry gin(gordon's pink)\n",
            "Calvados (un trou normand), Strawberry gin(gordon's pink)\n",
            "Calvados (un trou normand), Strawberry gin(gordon's pink)\n",
            "Strawberry gin(gordon's pink), Calvados (un trou normand)\n",
            "Strawberry gin(gordon's pink)\n",
            "Strawberry gin(gordon's pink), Calvados (un trou normand)\n",
            "Strawberry gin(gordon's pink), Calvados (un trou normand)\n",
            "Strawberry gin(gordon's pink)\n",
            "Strawberry gin(gordon's pink)\n",
            "Strawberry gin(gordon's pink), Calvados (un trou normand)\n",
            "Strawberry gin(gordon's pink)\n",
            "Strawberry gin(gordon's pink), Calvados (un trou normand)\n",
            "Strawberry gin(gordon's pink), Calvados (un trou normand)\n",
            "Strawberry gin(gordon's pink)\n",
            "Strawberry gin(gordon's pink), Calvados (un trou normand)\n",
            "Calvados (un trou normand), Strawberry gin(gordon's pink)\n",
            "Calvados (un trou normand), Strawberry gin(gordon's pink)\n",
            "Strawberry gin(gordon's pink)\n",
            "Strawberry gin(gordon's pink)\n",
            "Strawberry gin(gordon's pink), Calvados (un trou normand)\n",
            "Calvados (un trou normand), Strawberry gin(gordon's pink)\n",
            "Strawberry gin(gordon's pink)\n",
            "Strawberry gin(gordon's pink)\n",
            "Strawberry gin(gordon's pink), Calvados (un trou normand)\n",
            "Calvados (un trou normand), Strawberry gin(gordon's pink)\n",
            "Strawberry gin(gordon's pink), Calvados (un trou normand)\n",
            "Strawberry gin(gordon's pink), Calvados (un trou normand)\n",
            "Strawberry gin(gordon's pink), Calvados (un trou normand)\n",
            "Strawberry gin(gordon's pink)\n",
            "Strawberry gin(gordon's pink), Calvados (un trou normand)\n",
            "Strawberry gin(gordon's pink), Calvados (un trou normand)\n",
            "Strawberry gin(gordon's pink)\n",
            "Strawberry gin(gordon's pink)\n",
            "Strawberry gin(gordon's pink)\n",
            "Calvados (un trou normand), Strawberry gin(gordon's pink)\n",
            "Calvados (un trou normand), Strawberry gin(gordon's pink)\n",
            "Strawberry gin(gordon's pink), Calvados (un trou normand)\n",
            "Calvados (un trou normand), Strawberry gin(gordon's pink)\n",
            "Calvados (un trou normand), Strawberry gin(gordon's pink)\n",
            "Strawberry gin(gordon's pink)\n",
            "Strawberry gin(gordon's pink)\n",
            "Strawberry gin(gordon's pink), Calvados (un trou normand)\n",
            "Calvados (un trou normand), Strawberry gin(gordon's pink)\n",
            "Strawberry gin(gordon's pink)\n",
            "Strawberry gin(gordon's pink)\n",
            "Strawberry gin(gordon's pink), Calvados (un trou normand)\n",
            "Strawberry gin(gordon's pink), Calvados (un trou normand)\n",
            "Strawberry gin(gordon's pink)\n"
          ]
        }
      ]
    },
    {
      "cell_type": "code",
      "source": [
        ""
      ],
      "metadata": {
        "id": "VVSFtXGW8wr9"
      },
      "execution_count": null,
      "outputs": []
    }
  ]
}